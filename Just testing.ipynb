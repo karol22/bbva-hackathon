{
 "cells": [
  {
   "cell_type": "code",
   "execution_count": null,
   "metadata": {},
   "outputs": [],
   "source": [
    "import pandas as pd\n",
    "import numpy as np\n",
    "import matplotlib.pyplot as plt\n",
    "%matplotlib inline"
   ]
  },
  {
   "cell_type": "code",
   "execution_count": null,
   "metadata": {},
   "outputs": [],
   "source": [
    "df = pd.read_csv(\"t_mdco_tfra400_Base3M_1.0.csv\", dtype={\"producto_1_number\":str, \"bin_2_number\":str, \"clave_secundaria_text\":str})\n",
    "df"
   ]
  },
  {
   "cell_type": "code",
   "execution_count": null,
   "metadata": {},
   "outputs": [],
   "source": [
    "df.head(1)"
   ]
  },
  {
   "cell_type": "code",
   "execution_count": null,
   "metadata": {},
   "outputs": [],
   "source": [
    "df.columns.tolist()"
   ]
  },
  {
   "cell_type": "code",
   "execution_count": null,
   "metadata": {},
   "outputs": [],
   "source": [
    "for l in df.columns.tolist():\n",
    "    print(l, end=\", \")"
   ]
  },
  {
   "cell_type": "code",
   "execution_count": null,
   "metadata": {},
   "outputs": [],
   "source": [
    "for l in df.head(1).values.tolist()[0]:\n",
    "    print(l, end=\", \")"
   ]
  },
  {
   "cell_type": "code",
   "execution_count": null,
   "metadata": {},
   "outputs": [],
   "source": [
    "df.head(1).values.tolist()"
   ]
  },
  {
   "cell_type": "code",
   "execution_count": null,
   "metadata": {},
   "outputs": [],
   "source": [
    "df['tel_id'][0:100]"
   ]
  },
  {
   "cell_type": "code",
   "execution_count": null,
   "metadata": {},
   "outputs": [],
   "source": [
    "df['desc_text'][0:100]"
   ]
  },
  {
   "cell_type": "code",
   "execution_count": null,
   "metadata": {},
   "outputs": [],
   "source": [
    "df['desc_text'][0:100]"
   ]
  },
  {
   "cell_type": "code",
   "execution_count": null,
   "metadata": {},
   "outputs": [],
   "source": [
    "df['clave_secundaria_text'][0:100]"
   ]
  },
  {
   "cell_type": "code",
   "execution_count": 24,
   "metadata": {},
   "outputs": [],
   "source": [
    "import time\n",
    "def get_name(ini, target):\n",
    "    f = ini[:2]\n",
    "    l = ini[2:]\n",
    "    names = target.split(l.lower())\n",
    "    if(len(names) < 2 or target.find(f.lower()) != 0):\n",
    "        return \"\"\n",
    "    ff = len(names[0])\n",
    "    return f + target[2:ff] + \" \" + l + target[ff + len(l):]\n",
    "\n",
    "%%time\n",
    "names = []\n",
    "initials = df['desc_id'].tolist()\n",
    "targets = df['desc_text'].tolist()\n",
    "for i in range(len(initials)):\n",
    "    ini = initials[i]\n",
    "    target = targets[i]\n",
    "    ans = get_name(ini, target)\n",
    "    names.append(ans)\n",
    "\n",
    "print(len(names))\n",
    "print(names[:10])"
   ]
  },
  {
   "cell_type": "code",
   "execution_count": 27,
   "metadata": {},
   "outputs": [
    {
     "data": {
      "text/html": [
       "<div>\n",
       "<style scoped>\n",
       "    .dataframe tbody tr th:only-of-type {\n",
       "        vertical-align: middle;\n",
       "    }\n",
       "\n",
       "    .dataframe tbody tr th {\n",
       "        vertical-align: top;\n",
       "    }\n",
       "\n",
       "    .dataframe thead th {\n",
       "        text-align: right;\n",
       "    }\n",
       "</style>\n",
       "<table border=\"1\" class=\"dataframe\">\n",
       "  <thead>\n",
       "    <tr style=\"text-align: right;\">\n",
       "      <th></th>\n",
       "      <th>id_cliente</th>\n",
       "      <th>NU_CTE</th>\n",
       "      <th>CANAL_ENTRADA</th>\n",
       "      <th>clave_id</th>\n",
       "      <th>desc_text</th>\n",
       "      <th>producto_id</th>\n",
       "      <th>correo_id</th>\n",
       "      <th>CVV_secreto</th>\n",
       "      <th>CURP</th>\n",
       "      <th>CODIGO_BANCO</th>\n",
       "      <th>...</th>\n",
       "      <th>pasaporte</th>\n",
       "      <th>TERMINAL</th>\n",
       "      <th>FECHA_ULTIMO_USO</th>\n",
       "      <th>NSS</th>\n",
       "      <th>REFERENCIA_NUMERICA</th>\n",
       "      <th>MOTIVO_PAGO</th>\n",
       "      <th>INFE_id</th>\n",
       "      <th>registro.xls</th>\n",
       "      <th>TIPO_TARJETA</th>\n",
       "      <th>agrupacion_id</th>\n",
       "    </tr>\n",
       "  </thead>\n",
       "  <tbody>\n",
       "    <tr>\n",
       "      <th>0</th>\n",
       "      <td>1</td>\n",
       "      <td>B3477219</td>\n",
       "      <td>BNET</td>\n",
       "      <td>640402</td>\n",
       "      <td>iolandesnaddon</td>\n",
       "      <td>AD3</td>\n",
       "      <td>tnioPmirG91</td>\n",
       "      <td>495</td>\n",
       "      <td>KLX84</td>\n",
       "      <td>RQBI</td>\n",
       "      <td>...</td>\n",
       "      <td>1577F7EB349596F</td>\n",
       "      <td>KNtramps</td>\n",
       "      <td>1972-07-10</td>\n",
       "      <td>42220146665</td>\n",
       "      <td>3685710</td>\n",
       "      <td>S80</td>\n",
       "      <td>jmx0641086212</td>\n",
       "      <td>Version196404.xls</td>\n",
       "      <td>TDC</td>\n",
       "      <td>HDF</td>\n",
       "    </tr>\n",
       "    <tr>\n",
       "      <th>1</th>\n",
       "      <td>2</td>\n",
       "      <td>W0818632</td>\n",
       "      <td>BMOVIL</td>\n",
       "      <td>820713</td>\n",
       "      <td>jemiepeachman</td>\n",
       "      <td>MS9</td>\n",
       "      <td>enaLedisyaB18</td>\n",
       "      <td>759</td>\n",
       "      <td>LDH08</td>\n",
       "      <td>LOAE</td>\n",
       "      <td>...</td>\n",
       "      <td>NaN</td>\n",
       "      <td>KNunseen</td>\n",
       "      <td>1998-08-22</td>\n",
       "      <td>1026036203075</td>\n",
       "      <td>5754645</td>\n",
       "      <td>Thunderbird</td>\n",
       "      <td>uix4568194236</td>\n",
       "      <td>Version198207.xls</td>\n",
       "      <td>TDC</td>\n",
       "      <td>MDF</td>\n",
       "    </tr>\n",
       "    <tr>\n",
       "      <th>2</th>\n",
       "      <td>3</td>\n",
       "      <td>Z4396398</td>\n",
       "      <td>BNET</td>\n",
       "      <td>580905</td>\n",
       "      <td>justusmurton</td>\n",
       "      <td>NU7</td>\n",
       "      <td>kraPrelliM2518</td>\n",
       "      <td>739</td>\n",
       "      <td>UMM71</td>\n",
       "      <td>QOFZ</td>\n",
       "      <td>...</td>\n",
       "      <td>7D3C2D442B0D6A</td>\n",
       "      <td>KNcatnap</td>\n",
       "      <td>1991-10-28</td>\n",
       "      <td>645036454164</td>\n",
       "      <td>222503</td>\n",
       "      <td>GTO</td>\n",
       "      <td>vwu2996077629</td>\n",
       "      <td>Version195809.xls</td>\n",
       "      <td>TDC</td>\n",
       "      <td>HDF</td>\n",
       "    </tr>\n",
       "    <tr>\n",
       "      <th>3</th>\n",
       "      <td>4</td>\n",
       "      <td>L1839991</td>\n",
       "      <td>BNET</td>\n",
       "      <td>530805</td>\n",
       "      <td>foresternanni</td>\n",
       "      <td>EU6</td>\n",
       "      <td>teertSshcaS171</td>\n",
       "      <td>244</td>\n",
       "      <td>RRL32</td>\n",
       "      <td>TQKJ</td>\n",
       "      <td>...</td>\n",
       "      <td>NaN</td>\n",
       "      <td>KNbastes</td>\n",
       "      <td>1979-09-03</td>\n",
       "      <td>350710400652</td>\n",
       "      <td>4545783</td>\n",
       "      <td>Spyder</td>\n",
       "      <td>jju5328474945</td>\n",
       "      <td>Version195308.xls</td>\n",
       "      <td>TDC</td>\n",
       "      <td>MDF</td>\n",
       "    </tr>\n",
       "    <tr>\n",
       "      <th>4</th>\n",
       "      <td>5</td>\n",
       "      <td>Z4139418</td>\n",
       "      <td>BNET</td>\n",
       "      <td>800731</td>\n",
       "      <td>nathaliachiles</td>\n",
       "      <td>UC7</td>\n",
       "      <td>lliHtserclezaH854</td>\n",
       "      <td>970</td>\n",
       "      <td>SYX28</td>\n",
       "      <td>XBFR</td>\n",
       "      <td>...</td>\n",
       "      <td>173E41CD56A7D2</td>\n",
       "      <td>KNatom's</td>\n",
       "      <td>1996-09-13</td>\n",
       "      <td>347443313710</td>\n",
       "      <td>1294003</td>\n",
       "      <td>LX</td>\n",
       "      <td>rzc9286783184</td>\n",
       "      <td>Version198007.xls</td>\n",
       "      <td>TDC</td>\n",
       "      <td>HDF</td>\n",
       "    </tr>\n",
       "    <tr>\n",
       "      <th>...</th>\n",
       "      <td>...</td>\n",
       "      <td>...</td>\n",
       "      <td>...</td>\n",
       "      <td>...</td>\n",
       "      <td>...</td>\n",
       "      <td>...</td>\n",
       "      <td>...</td>\n",
       "      <td>...</td>\n",
       "      <td>...</td>\n",
       "      <td>...</td>\n",
       "      <td>...</td>\n",
       "      <td>...</td>\n",
       "      <td>...</td>\n",
       "      <td>...</td>\n",
       "      <td>...</td>\n",
       "      <td>...</td>\n",
       "      <td>...</td>\n",
       "      <td>...</td>\n",
       "      <td>...</td>\n",
       "      <td>...</td>\n",
       "      <td>...</td>\n",
       "    </tr>\n",
       "    <tr>\n",
       "      <th>2999995</th>\n",
       "      <td>2999996</td>\n",
       "      <td>Q9338732</td>\n",
       "      <td>BMOVIL</td>\n",
       "      <td>430531</td>\n",
       "      <td>zaradresser</td>\n",
       "      <td>QV1</td>\n",
       "      <td>evirDdoowtnerB5</td>\n",
       "      <td>389</td>\n",
       "      <td>CTD76</td>\n",
       "      <td>BZGV</td>\n",
       "      <td>...</td>\n",
       "      <td>1030D27C8B4D247</td>\n",
       "      <td>KNearl's</td>\n",
       "      <td>1966-10-19</td>\n",
       "      <td>17001375416</td>\n",
       "      <td>374291</td>\n",
       "      <td>Country</td>\n",
       "      <td>hxa2452944829</td>\n",
       "      <td>Version194305.xls</td>\n",
       "      <td>TDC</td>\n",
       "      <td>MDF</td>\n",
       "    </tr>\n",
       "    <tr>\n",
       "      <th>2999996</th>\n",
       "      <td>2999997</td>\n",
       "      <td>I2146781</td>\n",
       "      <td>BMOVIL</td>\n",
       "      <td>831211</td>\n",
       "      <td>skippermander</td>\n",
       "      <td>DF6</td>\n",
       "      <td>teertSairotciV015</td>\n",
       "      <td>464</td>\n",
       "      <td>TRC43</td>\n",
       "      <td>MXQB</td>\n",
       "      <td>...</td>\n",
       "      <td>489A1E0525B6AB</td>\n",
       "      <td>KNchalet</td>\n",
       "      <td>1961-01-29</td>\n",
       "      <td>1123227054175</td>\n",
       "      <td>3185992</td>\n",
       "      <td>Supra</td>\n",
       "      <td>nuw3038445815</td>\n",
       "      <td>Version198312.xls</td>\n",
       "      <td>TDC</td>\n",
       "      <td>HDF</td>\n",
       "    </tr>\n",
       "    <tr>\n",
       "      <th>2999997</th>\n",
       "      <td>2999998</td>\n",
       "      <td>A2205051</td>\n",
       "      <td>BMOVIL</td>\n",
       "      <td>880903</td>\n",
       "      <td>deboramounce</td>\n",
       "      <td>IW0</td>\n",
       "      <td>noitcnuJdnalecarG7</td>\n",
       "      <td>815</td>\n",
       "      <td>MCC46</td>\n",
       "      <td>FIBH</td>\n",
       "      <td>...</td>\n",
       "      <td>NaN</td>\n",
       "      <td>KNuntold</td>\n",
       "      <td>1993-08-06</td>\n",
       "      <td>1070224655433</td>\n",
       "      <td>5286373</td>\n",
       "      <td>DTS</td>\n",
       "      <td>igm7225031133</td>\n",
       "      <td>Version198809.xls</td>\n",
       "      <td>TDC</td>\n",
       "      <td>HDF</td>\n",
       "    </tr>\n",
       "    <tr>\n",
       "      <th>2999998</th>\n",
       "      <td>2999999</td>\n",
       "      <td>W4868807</td>\n",
       "      <td>BMOVIL</td>\n",
       "      <td>950101</td>\n",
       "      <td>alanahholde</td>\n",
       "      <td>YU4</td>\n",
       "      <td>retneCrereihT816</td>\n",
       "      <td>669</td>\n",
       "      <td>KIU86</td>\n",
       "      <td>YBWF</td>\n",
       "      <td>...</td>\n",
       "      <td>9BCE366316501A</td>\n",
       "      <td>KNpapacy</td>\n",
       "      <td>1964-03-16</td>\n",
       "      <td>304301116630</td>\n",
       "      <td>5737546</td>\n",
       "      <td>Tucson</td>\n",
       "      <td>fux0962206429</td>\n",
       "      <td>Version199501.xls</td>\n",
       "      <td>TDC</td>\n",
       "      <td>HDF</td>\n",
       "    </tr>\n",
       "    <tr>\n",
       "      <th>2999999</th>\n",
       "      <td>3000000</td>\n",
       "      <td>S1808601</td>\n",
       "      <td>BMOVIL</td>\n",
       "      <td>581015</td>\n",
       "      <td>yurihovert</td>\n",
       "      <td>LN3</td>\n",
       "      <td>ecalPneerG55</td>\n",
       "      <td>747</td>\n",
       "      <td>VSD75</td>\n",
       "      <td>TSDB</td>\n",
       "      <td>...</td>\n",
       "      <td>13C49684CDD6B20</td>\n",
       "      <td>KNgambit</td>\n",
       "      <td>1959-09-17</td>\n",
       "      <td>753644703554</td>\n",
       "      <td>8200483</td>\n",
       "      <td>SC</td>\n",
       "      <td>hhq6872204467</td>\n",
       "      <td>Version195810.xls</td>\n",
       "      <td>TDC</td>\n",
       "      <td>MDF</td>\n",
       "    </tr>\n",
       "  </tbody>\n",
       "</table>\n",
       "<p>3000000 rows × 32 columns</p>\n",
       "</div>"
      ],
      "text/plain": [
       "         id_cliente    NU_CTE CANAL_ENTRADA  clave_id       desc_text  \\\n",
       "0                 1  B3477219          BNET    640402  iolandesnaddon   \n",
       "1                 2  W0818632        BMOVIL    820713   jemiepeachman   \n",
       "2                 3  Z4396398          BNET    580905    justusmurton   \n",
       "3                 4  L1839991          BNET    530805   foresternanni   \n",
       "4                 5  Z4139418          BNET    800731  nathaliachiles   \n",
       "...             ...       ...           ...       ...             ...   \n",
       "2999995     2999996  Q9338732        BMOVIL    430531     zaradresser   \n",
       "2999996     2999997  I2146781        BMOVIL    831211   skippermander   \n",
       "2999997     2999998  A2205051        BMOVIL    880903    deboramounce   \n",
       "2999998     2999999  W4868807        BMOVIL    950101     alanahholde   \n",
       "2999999     3000000  S1808601        BMOVIL    581015      yurihovert   \n",
       "\n",
       "        producto_id           correo_id  CVV_secreto   CURP CODIGO_BANCO  ...  \\\n",
       "0               AD3         tnioPmirG91          495  KLX84         RQBI  ...   \n",
       "1               MS9       enaLedisyaB18          759  LDH08         LOAE  ...   \n",
       "2               NU7      kraPrelliM2518          739  UMM71         QOFZ  ...   \n",
       "3               EU6      teertSshcaS171          244  RRL32         TQKJ  ...   \n",
       "4               UC7   lliHtserclezaH854          970  SYX28         XBFR  ...   \n",
       "...             ...                 ...          ...    ...          ...  ...   \n",
       "2999995         QV1     evirDdoowtnerB5          389  CTD76         BZGV  ...   \n",
       "2999996         DF6   teertSairotciV015          464  TRC43         MXQB  ...   \n",
       "2999997         IW0  noitcnuJdnalecarG7          815  MCC46         FIBH  ...   \n",
       "2999998         YU4    retneCrereihT816          669  KIU86         YBWF  ...   \n",
       "2999999         LN3        ecalPneerG55          747  VSD75         TSDB  ...   \n",
       "\n",
       "               pasaporte  TERMINAL FECHA_ULTIMO_USO            NSS  \\\n",
       "0        1577F7EB349596F  KNtramps       1972-07-10    42220146665   \n",
       "1                    NaN  KNunseen       1998-08-22  1026036203075   \n",
       "2         7D3C2D442B0D6A  KNcatnap       1991-10-28   645036454164   \n",
       "3                    NaN  KNbastes       1979-09-03   350710400652   \n",
       "4         173E41CD56A7D2  KNatom's       1996-09-13   347443313710   \n",
       "...                  ...       ...              ...            ...   \n",
       "2999995  1030D27C8B4D247  KNearl's       1966-10-19    17001375416   \n",
       "2999996   489A1E0525B6AB  KNchalet       1961-01-29  1123227054175   \n",
       "2999997              NaN  KNuntold       1993-08-06  1070224655433   \n",
       "2999998   9BCE366316501A  KNpapacy       1964-03-16   304301116630   \n",
       "2999999  13C49684CDD6B20  KNgambit       1959-09-17   753644703554   \n",
       "\n",
       "        REFERENCIA_NUMERICA  MOTIVO_PAGO        INFE_id       registro.xls  \\\n",
       "0                   3685710          S80  jmx0641086212  Version196404.xls   \n",
       "1                   5754645  Thunderbird  uix4568194236  Version198207.xls   \n",
       "2                    222503          GTO  vwu2996077629  Version195809.xls   \n",
       "3                   4545783       Spyder  jju5328474945  Version195308.xls   \n",
       "4                   1294003           LX  rzc9286783184  Version198007.xls   \n",
       "...                     ...          ...            ...                ...   \n",
       "2999995              374291      Country  hxa2452944829  Version194305.xls   \n",
       "2999996             3185992        Supra  nuw3038445815  Version198312.xls   \n",
       "2999997             5286373          DTS  igm7225031133  Version198809.xls   \n",
       "2999998             5737546       Tucson  fux0962206429  Version199501.xls   \n",
       "2999999             8200483           SC  hhq6872204467  Version195810.xls   \n",
       "\n",
       "         TIPO_TARJETA agrupacion_id  \n",
       "0                 TDC           HDF  \n",
       "1                 TDC           MDF  \n",
       "2                 TDC           HDF  \n",
       "3                 TDC           MDF  \n",
       "4                 TDC           HDF  \n",
       "...               ...           ...  \n",
       "2999995           TDC           MDF  \n",
       "2999996           TDC           HDF  \n",
       "2999997           TDC           HDF  \n",
       "2999998           TDC           HDF  \n",
       "2999999           TDC           MDF  \n",
       "\n",
       "[3000000 rows x 32 columns]"
      ]
     },
     "execution_count": 27,
     "metadata": {},
     "output_type": "execute_result"
    }
   ],
   "source": [
    "df"
   ]
  },
  {
   "cell_type": "code",
   "execution_count": null,
   "metadata": {},
   "outputs": [],
   "source": [
    "cc.append(1)"
   ]
  },
  {
   "cell_type": "code",
   "execution_count": null,
   "metadata": {},
   "outputs": [],
   "source": [
    "cc"
   ]
  },
  {
   "cell_type": "code",
   "execution_count": null,
   "metadata": {},
   "outputs": [],
   "source": [
    "pd.options.display.max_columns = None"
   ]
  },
  {
   "cell_type": "code",
   "execution_count": null,
   "metadata": {},
   "outputs": [],
   "source": [
    "df.sample(10)['producto_1_number']"
   ]
  },
  {
   "cell_type": "code",
   "execution_count": null,
   "metadata": {},
   "outputs": [],
   "source": [
    "pd.reset_option('display.float_format')\n",
    "\n"
   ]
  },
  {
   "cell_type": "code",
   "execution_count": null,
   "metadata": {},
   "outputs": [],
   "source": [
    "df.sample(10)"
   ]
  },
  {
   "cell_type": "code",
   "execution_count": null,
   "metadata": {
    "scrolled": false
   },
   "outputs": [],
   "source": [
    "df.sample(100)"
   ]
  },
  {
   "cell_type": "code",
   "execution_count": null,
   "metadata": {},
   "outputs": [],
   "source": [
    "x = set()"
   ]
  },
  {
   "cell_type": "code",
   "execution_count": null,
   "metadata": {},
   "outputs": [],
   "source": [
    "for el in df['agrupacion_id']:\n",
    "    x.add(el)"
   ]
  },
  {
   "cell_type": "code",
   "execution_count": null,
   "metadata": {},
   "outputs": [],
   "source": [
    "x"
   ]
  },
  {
   "cell_type": "code",
   "execution_count": null,
   "metadata": {},
   "outputs": [],
   "source": [
    "df.sample(10)"
   ]
  },
  {
   "cell_type": "code",
   "execution_count": null,
   "metadata": {},
   "outputs": [],
   "source": [
    "x = set()\n",
    "for num in df['clave_secundaria_text']:\n",
    "    for d in num:\n",
    "        x.add(d)"
   ]
  },
  {
   "cell_type": "code",
   "execution_count": null,
   "metadata": {},
   "outputs": [],
   "source": [
    "x"
   ]
  },
  {
   "cell_type": "code",
   "execution_count": null,
   "metadata": {},
   "outputs": [],
   "source": [
    "x = set()\n",
    "for num in df['clave_primaria_text']:\n",
    "    for d in str(num):\n",
    "        x.add(d)"
   ]
  },
  {
   "cell_type": "code",
   "execution_count": null,
   "metadata": {},
   "outputs": [],
   "source": [
    "x = set()\n",
    "for num in df['REFERENCIA_PAGO']:\n",
    "    x.add(len(str(num)))"
   ]
  },
  {
   "cell_type": "code",
   "execution_count": null,
   "metadata": {},
   "outputs": [],
   "source": [
    "x"
   ]
  },
  {
   "cell_type": "code",
   "execution_count": null,
   "metadata": {},
   "outputs": [],
   "source": [
    "x = set()\n",
    "for num in df['INSTRUMENTO_PAGO']:\n",
    "    x.add(num)"
   ]
  },
  {
   "cell_type": "code",
   "execution_count": null,
   "metadata": {},
   "outputs": [],
   "source": [
    "len(x)"
   ]
  },
  {
   "cell_type": "code",
   "execution_count": null,
   "metadata": {},
   "outputs": [],
   "source": [
    "x = set()\n",
    "for num in df['REFERENCIA_PAGO']:\n",
    "    for d in str(num):\n",
    "        x.add(d)\n",
    "x"
   ]
  },
  {
   "cell_type": "code",
   "execution_count": null,
   "metadata": {},
   "outputs": [],
   "source": [
    "x = set()\n",
    "for num in df['producto_id']:\n",
    "        x.add(num)\n",
    "len(x)"
   ]
  },
  {
   "cell_type": "code",
   "execution_count": null,
   "metadata": {},
   "outputs": [],
   "source": [
    "x = set()\n",
    "for num in df['pasaporte']:\n",
    "        x.add(len(str(num)))\n",
    "x"
   ]
  },
  {
   "cell_type": "code",
   "execution_count": null,
   "metadata": {},
   "outputs": [],
   "source": [
    "x = set()\n",
    "c15 = 0\n",
    "c16 = 0\n",
    "c17 = 0\n",
    "for num in df['pasaporte']:\n",
    "    hx = str(num)\n",
    "    if hx != 'nan':\n",
    "        dec = int(hx, 16)\n",
    "        l = len(str(dec))\n",
    "        if l == 15:\n",
    "            c15 = c15 + 1\n",
    "        elif l == 16:\n",
    "            c16 = c16 + 1\n",
    "        elif l == 17:\n",
    "            c17 = c17 + 1\n",
    "        x.add(l)\n",
    "x"
   ]
  },
  {
   "cell_type": "code",
   "execution_count": null,
   "metadata": {},
   "outputs": [],
   "source": [
    "print(c15, c16, c17)"
   ]
  },
  {
   "cell_type": "code",
   "execution_count": null,
   "metadata": {},
   "outputs": [],
   "source": [
    "x = set()\n",
    "for num in df['producto_1_number']:\n",
    "    bn = str(num)\n",
    "    if bn != 'nan':\n",
    "        signo = -1 if bn[0] == '1' else 1\n",
    "        dec = int(bn[1:], 2)\n",
    "        x.add(signo * dec)\n",
    "x"
   ]
  },
  {
   "cell_type": "code",
   "execution_count": null,
   "metadata": {},
   "outputs": [],
   "source": [
    "x = set()\n",
    "for num in df['bin_2_number']:\n",
    "    bn = str(num)\n",
    "    if bn != 'nan':\n",
    "        dec = int(bn, 2)\n",
    "        x.add(dec)\n",
    "x"
   ]
  },
  {
   "cell_type": "code",
   "execution_count": null,
   "metadata": {},
   "outputs": [],
   "source": [
    "x = set()\n",
    "for num in df['bin_2_number']:\n",
    "    bn = str(num)\n",
    "    if bn != 'nan':\n",
    "        signo = -1 if bn[0] == '1' else 1\n",
    "        dec = int(bn[1:], 2)\n",
    "        x.add(signo * dec)\n",
    "x"
   ]
  },
  {
   "cell_type": "code",
   "execution_count": null,
   "metadata": {},
   "outputs": [],
   "source": [
    "x = set()\n",
    "for num in df['bin_2_number']:\n",
    "    bn = str(num)\n",
    "    if bn != 'nan':\n",
    "        signo = -1 if bn[0] == '1' else 1\n",
    "        dec = int(bn[1:], 2)\n",
    "        x.add(signo * dec/2)\n",
    "x"
   ]
  },
  {
   "cell_type": "code",
   "execution_count": null,
   "metadata": {},
   "outputs": [],
   "source": [
    "x = set()\n",
    "for num in df['INSTRUMENTO_PAGO']:\n",
    "    x.add(num[0])\n",
    "x"
   ]
  },
  {
   "cell_type": "code",
   "execution_count": null,
   "metadata": {},
   "outputs": [],
   "source": [
    "x = {}\n",
    "for num in df['NSS']:\n",
    "    bn = str(num)\n",
    "    signs = Counter(k['sign'] for k in data if k.get('sign'))\n",
    "    for sign, count in signs.most_common():\n",
    "        print(sign, count)"
   ]
  },
  {
   "cell_type": "code",
   "execution_count": null,
   "metadata": {},
   "outputs": [],
   "source": [
    "from collections import Counter\n",
    "s = Counter(df['NSS'])"
   ]
  },
  {
   "cell_type": "code",
   "execution_count": null,
   "metadata": {},
   "outputs": [],
   "source": [
    "len(s)"
   ]
  }
 ],
 "metadata": {
  "kernelspec": {
   "display_name": "Python 3",
   "language": "python",
   "name": "python3"
  },
  "language_info": {
   "codemirror_mode": {
    "name": "ipython",
    "version": 3
   },
   "file_extension": ".py",
   "mimetype": "text/x-python",
   "name": "python",
   "nbconvert_exporter": "python",
   "pygments_lexer": "ipython3",
   "version": "3.6.12"
  }
 },
 "nbformat": 4,
 "nbformat_minor": 4
}
