{
 "cells": [
  {
   "cell_type": "code",
   "execution_count": null,
   "metadata": {},
   "outputs": [],
   "source": [
    "import pandas as pd\n",
    "import dask.dataframe as dd\n",
    "from dask import compute\n",
    "pd.options.display.max_columns = None\n",
    "import numpy as np\n",
    "import dask\n",
    "nan = np.nan\n",
    "from dask.distributed import Client\n",
    "client = dask.distributed.Client()"
   ]
  },
  {
   "cell_type": "code",
   "execution_count": null,
   "metadata": {},
   "outputs": [],
   "source": [
    "path = 't_mdco_tfra400_Base3M_1.0.csv'"
   ]
  },
  {
   "cell_type": "code",
   "execution_count": null,
   "metadata": {},
   "outputs": [],
   "source": [
    "%%time\n",
    "df = pd.read_csv(path,\n",
    "                 dtype={\"producto_1_number\":str,\n",
    "                        \"bin_2_number\":str, \n",
    "                        \"NSS\":str,\n",
    "                        \"pasaporte\":str,\n",
    "                        \"clave_id\":str,\n",
    "                        \"clave_secundaria_text\": str\n",
    "                       })"
   ]
  },
  {
   "cell_type": "code",
   "execution_count": null,
   "metadata": {},
   "outputs": [],
   "source": []
  },
  {
   "cell_type": "code",
   "execution_count": null,
   "metadata": {},
   "outputs": [],
   "source": [
    "%%time\n",
    "# Direccion\n",
    "df['direccion'] = df.loc[:,'correo_id'].apply(lambda x: x[::-1])#,meta=('correo_id', 'object'))"
   ]
  },
  {
   "cell_type": "code",
   "execution_count": null,
   "metadata": {},
   "outputs": [],
   "source": [
    "%%time\n",
    "# Obtener nombre completo\n",
    "def build_name(row):\n",
    "    name = row['desc_text']\n",
    "    lastShort = row['desc_id'][2:]\n",
    "    index = name.find(lastShort.lower())\n",
    "    return f'{name[:index].capitalize()} {name[index:].capitalize()}'\n",
    "df['full_name'] = df[['desc_text', 'desc_id']].apply(build_name, axis=1)#, meta=('correo_id', 'object'))"
   ]
  },
  {
   "cell_type": "code",
   "execution_count": null,
   "metadata": {},
   "outputs": [],
   "source": [
    "%%time\n",
    "# Obtener email completo\n",
    "def build_email(row):\n",
    "    user = row['nombre_text']\n",
    "    domain = str(row['apellid@_text']).replace('!','.com')\n",
    "    return f'{user}@{domain}'\n",
    "df['email'] = df[['nombre_text', 'apellid@_text']].apply(build_email, axis=1)#, meta=('correo_id', 'object'))"
   ]
  },
  {
   "cell_type": "code",
   "execution_count": null,
   "metadata": {},
   "outputs": [],
   "source": [
    "%%time\n",
    "# Obtener los 17 numeros del pasaporte\n",
    "def build_passport(value):\n",
    "    if str(value) == 'nan' or value == nan:\n",
    "        return ''\n",
    "    else:\n",
    "        return str(int(str(value), 16)).zfill(17)\n",
    "df['pasaporte_'] = df['pasaporte'].apply(\n",
    "    build_passport,\n",
    "    #meta=('pasaporte_', 'object')\n",
    ")"
   ]
  },
  {
   "cell_type": "code",
   "execution_count": null,
   "metadata": {},
   "outputs": [],
   "source": [
    "%%time\n",
    "# Obtener los 17 numeros del pasaporte\n",
    "def build_nss(value):\n",
    "    if str(value) == 'nan' or value == nan:\n",
    "        return ''\n",
    "    else:\n",
    "        return str(int(str(value), 8)).zfill(17)\n",
    "df['NSS_'] = df['NSS'].apply(\n",
    "    build_nss,\n",
    "    #meta=('NSS_', 'object')\n",
    ")"
   ]
  },
  {
   "cell_type": "code",
   "execution_count": null,
   "metadata": {},
   "outputs": [],
   "source": [
    "%%time\n",
    "# Obtener numeros de telefono\n",
    "mapper = {\n",
    "    'A' : '4',\n",
    "    'B' : '8',\n",
    "    'Z' : '2',\n",
    "    'I' : '1',\n",
    "    'S' : '5',\n",
    "    'E' : '3',\n",
    "    'l' : '1',\n",
    "    'O' : '0'\n",
    "}\n",
    "def unleet(string):\n",
    "    res = ''\n",
    "    if str(string) == 'nan' or string == nan:\n",
    "        return ''\n",
    "    else:\n",
    "        for c in string: res += mapper.get(c, c)\n",
    "        return res\n",
    "df['phone1'] = df['clave_secundaria_text'].apply(unleet)#, meta=('telefono_1', 'object'))\n",
    "df['phone2'] = df['clave_primaria_text'].apply(unleet)#, meta=('telefono_2', 'object'))\n"
   ]
  },
  {
   "cell_type": "code",
   "execution_count": null,
   "metadata": {},
   "outputs": [],
   "source": [
    "%%time\n",
    "# Obtener fecha de algo\n",
    "def get_date(row):\n",
    "    clave = row['clave_id'][-2:]\n",
    "    registro = row['registro.xls'][7:-4]\n",
    "    return f'{registro[:4]}-{registro[4:]}-{clave}'\n",
    "df['date0'] = df[['clave_id', 'registro.xls']].apply(get_date, axis=1)#, meta=('date0', 'object'))"
   ]
  },
  {
   "cell_type": "code",
   "execution_count": null,
   "metadata": {},
   "outputs": [],
   "source": [
    "# CURP\n",
    "def get_curp(row):\n",
    "    pass"
   ]
  },
  {
   "cell_type": "code",
   "execution_count": null,
   "metadata": {},
   "outputs": [],
   "source": [
    "%%time\n",
    "res_df = df[['direccion', 'full_name', 'email', 'pasaporte_', 'NSS_', 'phone1', 'phone2', 'date0']]"
   ]
  },
  {
   "cell_type": "code",
   "execution_count": null,
   "metadata": {},
   "outputs": [],
   "source": [
    "res_df.compute()"
   ]
  },
  {
   "cell_type": "code",
   "execution_count": null,
   "metadata": {},
   "outputs": [],
   "source": [
    "# Dask sin cliente 4:46\n",
    "# Pandas\n",
    "# Dask con cliente\n"
   ]
  },
  {
   "cell_type": "code",
   "execution_count": null,
   "metadata": {},
   "outputs": [],
   "source": []
  },
  {
   "cell_type": "code",
   "execution_count": null,
   "metadata": {},
   "outputs": [],
   "source": []
  }
 ],
 "metadata": {
  "kernelspec": {
   "display_name": "Python 3",
   "language": "python",
   "name": "python3"
  },
  "language_info": {
   "codemirror_mode": {
    "name": "ipython",
    "version": 3
   },
   "file_extension": ".py",
   "mimetype": "text/x-python",
   "name": "python",
   "nbconvert_exporter": "python",
   "pygments_lexer": "ipython3",
   "version": "3.7.4"
  }
 },
 "nbformat": 4,
 "nbformat_minor": 2
}
